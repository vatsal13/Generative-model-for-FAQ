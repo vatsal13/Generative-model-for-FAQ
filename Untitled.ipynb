{
 "cells": [
  {
   "cell_type": "code",
   "execution_count": 1,
   "metadata": {
    "collapsed": true
   },
   "outputs": [],
   "source": [
    "import subprocess\n",
    "import os\n",
    "import sys\n",
    "from oneUrl import *"
   ]
  },
  {
   "cell_type": "code",
   "execution_count": 2,
   "metadata": {
    "collapsed": true
   },
   "outputs": [],
   "source": [
    "def writeData(x):\n",
    "    f = open('/home/vatsm/mydata/dev/sources.txt', 'w')\n",
    "    f.write(x)  # python will convert \\n to os.linesep\n",
    "    f.close()\n",
    "\n",
    "def runInference():\n",
    "    os.system('''python -m bin.infer \\\n",
    "      --tasks \"\n",
    "        - class: DecodeText\" \\\n",
    "      --model_dir /tmp/nmt_tutorial \\\n",
    "      --input_pipeline \"\n",
    "        class: ParallelTextInputPipeline\n",
    "        params:\n",
    "          source_files:\n",
    "            - $DEV_SOURCES \" > op.txt''')\n",
    "\n",
    "def getResult():\n",
    "    f = open('op.txt','r')\n",
    "    string = f.read()\n",
    "    string = string.replace('\\n','')\n",
    "    f.close()\n",
    "    return string\n",
    "    \n",
    "def runBeamSearch():\n",
    "    os.system('''python -m bin.infer \\\n",
    "      --tasks \"\n",
    "        - class: DecodeText\n",
    "        - class: DumpBeams\n",
    "          params:\n",
    "            file: pred/beams.npz\" \\\n",
    "      --model_dir /tmp/nmt_tutorial \\\n",
    "      --model_params \"\n",
    "        inference.beam_search.beam_width: 2\" \\\n",
    "      --input_pipeline \"\n",
    "        class: ParallelTextInputPipeline\n",
    "        params:\n",
    "          source_files:\n",
    "            - $DEV_SOURCES\" \\\n",
    "      > pred/predictions.txt''')\n",
    "\n",
    "def getBestBeamResult():\n",
    "    f = open('pred/predictions.txt','r')\n",
    "    string = f.read().replace('\\n', '')\n",
    "    f.close()\n",
    "    return string\n",
    "\n",
    "def createOtherBeamPaths():\n",
    "    os.system('''python ./bin/tools/generate_beam_viz.py  \\\n",
    "      -o ./vis/beam_visualizations \\\n",
    "      -d pred/beams.npz \\\n",
    "      -v $VOCAB_TARGET > spread.txt''')\n",
    "\n",
    "def getOtherBeamPaths():\n",
    "    f = open('spread.txt','r')\n",
    "    string = f.read()\n",
    "    string = string.split('\\n')\n",
    "    f.close()\n",
    "    return string[0:-2]"
   ]
  },
  {
   "cell_type": "markdown",
   "metadata": {},
   "source": [
    "#### START"
   ]
  },
  {
   "cell_type": "code",
   "execution_count": 12,
   "metadata": {},
   "outputs": [
    {
     "name": "stdout",
     "output_type": "stream",
     "text": [
      "B01N7XW7LN\n"
     ]
    }
   ],
   "source": [
    "asin = raw_input()"
   ]
  },
  {
   "cell_type": "code",
   "execution_count": 13,
   "metadata": {},
   "outputs": [
    {
     "data": {
      "text/plain": [
       "\"Clothing, Shoes & Jewelry > Men > Shoes > Athletic > Team Sports > Basketball,Minimal design , Men 's NIKE Revolution 3 Running Shoe made lightweight , single-layer mesh minimal no-sew overlays soft foam beneath foot revolutionary comfort . ,NIKE Men's Revolution 3 Running Shoe\""
      ]
     },
     "execution_count": 13,
     "metadata": {},
     "output_type": "execute_result"
    }
   ],
   "source": [
    "input_features = ReadAsin(asin)\n",
    "input_features"
   ]
  },
  {
   "cell_type": "code",
   "execution_count": 14,
   "metadata": {
    "collapsed": true
   },
   "outputs": [],
   "source": [
    "writeData(input_features)"
   ]
  },
  {
   "cell_type": "code",
   "execution_count": 15,
   "metadata": {
    "collapsed": true
   },
   "outputs": [],
   "source": [
    "runInference()"
   ]
  },
  {
   "cell_type": "code",
   "execution_count": 16,
   "metadata": {},
   "outputs": [
    {
     "data": {
      "text/plain": [
       "'Are they water proof?'"
      ]
     },
     "execution_count": 16,
     "metadata": {},
     "output_type": "execute_result"
    }
   ],
   "source": [
    "question_highest_prob = getResult()\n",
    "question_highest_prob"
   ]
  },
  {
   "cell_type": "markdown",
   "metadata": {},
   "source": [
    "#### Beam Search with Width = 2"
   ]
  },
  {
   "cell_type": "code",
   "execution_count": 17,
   "metadata": {
    "collapsed": true
   },
   "outputs": [],
   "source": [
    "runBeamSearch()"
   ]
  },
  {
   "cell_type": "code",
   "execution_count": 18,
   "metadata": {},
   "outputs": [
    {
     "data": {
      "text/plain": [
       "'Are they water proof?'"
      ]
     },
     "execution_count": 18,
     "metadata": {},
     "output_type": "execute_result"
    }
   ],
   "source": [
    "beam_question_highest_prob = getBestBeamResult()\n",
    "beam_question_highest_prob"
   ]
  },
  {
   "cell_type": "code",
   "execution_count": 19,
   "metadata": {
    "collapsed": true
   },
   "outputs": [],
   "source": [
    "createOtherBeamPaths()"
   ]
  },
  {
   "cell_type": "code",
   "execution_count": 20,
   "metadata": {},
   "outputs": [
    {
     "data": {
      "text/plain": [
       "[' Are they water proof? ?',\n",
       " ' Are they deep royal blue or black /grey/white? im looking for the blue ?',\n",
       " ' Year of ?']"
      ]
     },
     "execution_count": 20,
     "metadata": {},
     "output_type": "execute_result"
    }
   ],
   "source": [
    "other_questions = getOtherBeamPaths()\n",
    "other_questions"
   ]
  },
  {
   "cell_type": "markdown",
   "metadata": {
    "collapsed": true
   },
   "source": [
    "##### FIN"
   ]
  },
  {
   "cell_type": "code",
   "execution_count": null,
   "metadata": {
    "collapsed": true
   },
   "outputs": [],
   "source": []
  },
  {
   "cell_type": "code",
   "execution_count": null,
   "metadata": {
    "collapsed": true
   },
   "outputs": [],
   "source": []
  },
  {
   "cell_type": "code",
   "execution_count": null,
   "metadata": {
    "collapsed": true
   },
   "outputs": [],
   "source": []
  },
  {
   "cell_type": "code",
   "execution_count": null,
   "metadata": {
    "collapsed": true
   },
   "outputs": [],
   "source": []
  },
  {
   "cell_type": "code",
   "execution_count": null,
   "metadata": {
    "collapsed": true
   },
   "outputs": [],
   "source": []
  }
 ],
 "metadata": {
  "kernelspec": {
   "display_name": "Python 2",
   "language": "python",
   "name": "python2"
  },
  "language_info": {
   "codemirror_mode": {
    "name": "ipython",
    "version": 2
   },
   "file_extension": ".py",
   "mimetype": "text/x-python",
   "name": "python",
   "nbconvert_exporter": "python",
   "pygments_lexer": "ipython2",
   "version": "2.7.12"
  }
 },
 "nbformat": 4,
 "nbformat_minor": 2
}
