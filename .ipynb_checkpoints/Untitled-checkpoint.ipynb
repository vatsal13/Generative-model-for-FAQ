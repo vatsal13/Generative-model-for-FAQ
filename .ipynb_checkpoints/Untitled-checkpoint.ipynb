{
 "cells": [
  {
   "cell_type": "code",
   "execution_count": 5,
   "metadata": {
    "collapsed": true
   },
   "outputs": [],
   "source": [
    "import subprocess\n",
    "import os\n",
    "import sys"
   ]
  },
  {
   "cell_type": "code",
   "execution_count": 6,
   "metadata": {},
   "outputs": [
    {
     "name": "stdout",
     "output_type": "stream",
     "text": [
      "2\n"
     ]
    }
   ],
   "source": [
    "asin = raw_input()"
   ]
  },
  {
   "cell_type": "code",
   "execution_count": 7,
   "metadata": {
    "collapsed": true
   },
   "outputs": [],
   "source": [
    "from oneUrl import *"
   ]
  },
  {
   "cell_type": "code",
   "execution_count": 8,
   "metadata": {
    "collapsed": true
   },
   "outputs": [],
   "source": [
    "x = ReadAsin(\"B06XCM2731\")\n",
    "if (x==None):\n",
    "    print(33)\n",
    "else:\n",
    "    print(x)"
   ]
  },
  {
   "cell_type": "code",
   "execution_count": 9,
   "metadata": {},
   "outputs": [
    {
     "data": {
      "text/plain": [
       "'Toys & Games > Grown-Up Toys > Novelty & Gag Toys , The Focus Cube Spinner innovative fidget tool designed reduce stress improve cognitive performance . Use Focus Cube Spinner everywhere whether you\\xc2\\xa1\\xc2\\xafre job , ,Balai Fidget Cube Toy Camo Anxiety Attention Stress Relief Children Adults Night Stars'"
      ]
     },
     "execution_count": 9,
     "metadata": {},
     "output_type": "execute_result"
    }
   ],
   "source": [
    "x = '''Toys & Games > Grown-Up Toys > Novelty & Gag Toys , The Focus Cube Spinner innovative fidget tool designed reduce stress improve cognitive performance . Use Focus Cube Spinner everywhere whether you¡¯re job , ,Balai Fidget Cube Toy Camo Anxiety Attention Stress Relief Children Adults Night Stars'''\n",
    "x"
   ]
  },
  {
   "cell_type": "code",
   "execution_count": 19,
   "metadata": {
    "collapsed": true
   },
   "outputs": [],
   "source": [
    "f = open('/home/vatsm/mydata/dev/sources.txt', 'w')\n",
    "f.write(x)  # python will convert \\n to os.linesep\n",
    "f.close()"
   ]
  },
  {
   "cell_type": "code",
   "execution_count": 22,
   "metadata": {},
   "outputs": [
    {
     "data": {
      "text/plain": [
       "0"
      ]
     },
     "execution_count": 22,
     "metadata": {},
     "output_type": "execute_result"
    }
   ],
   "source": [
    "os.system('''python -m bin.infer \\\n",
    "  --tasks \"\n",
    "    - class: DecodeText\" \\\n",
    "  --model_dir /tmp/nmt_tutorial \\\n",
    "  --input_pipeline \"\n",
    "    class: ParallelTextInputPipeline\n",
    "    params:\n",
    "      source_files:\n",
    "        - $DEV_SOURCES \" > op.txt''')"
   ]
  },
  {
   "cell_type": "code",
   "execution_count": 3,
   "metadata": {},
   "outputs": [
    {
     "name": "stdout",
     "output_type": "stream",
     "text": [
      "Is this the\n"
     ]
    }
   ],
   "source": [
    "with open('op.txt', 'r') as myfile:\n",
    "    data=myfile.read().replace('\\n', '')\n",
    "print data"
   ]
  },
  {
   "cell_type": "code",
   "execution_count": 12,
   "metadata": {},
   "outputs": [
    {
     "data": {
      "text/plain": [
       "0"
      ]
     },
     "execution_count": 12,
     "metadata": {},
     "output_type": "execute_result"
    }
   ],
   "source": [
    "os.system('''python -m bin.infer \\\n",
    "  --tasks \"\n",
    "    - class: DecodeText\n",
    "    - class: DumpBeams\n",
    "      params:\n",
    "        file: pred/beams.npz\" \\\n",
    "  --model_dir /tmp/nmt_tutorial \\\n",
    "  --model_params \"\n",
    "    inference.beam_search.beam_width: 5\" \\\n",
    "  --input_pipeline \"\n",
    "    class: ParallelTextInputPipeline\n",
    "    params:\n",
    "      source_files:\n",
    "        - $DEV_SOURCES\" \\\n",
    "  > pred/predictions.txt''')"
   ]
  },
  {
   "cell_type": "code",
   "execution_count": 13,
   "metadata": {
    "collapsed": true
   },
   "outputs": [],
   "source": [
    "with open('/home/vatsm/seq2seq/seq2seq/pred/predictions.txt', 'r') as myfile:\n",
    "    data=myfile.read().replace('\\n', '')\n",
    "print data"
   ]
  },
  {
   "cell_type": "code",
   "execution_count": null,
   "metadata": {
    "collapsed": true
   },
   "outputs": [],
   "source": []
  }
 ],
 "metadata": {
  "kernelspec": {
   "display_name": "Python 2",
   "language": "python",
   "name": "python2"
  },
  "language_info": {
   "codemirror_mode": {
    "name": "ipython",
    "version": 2
   },
   "file_extension": ".py",
   "mimetype": "text/x-python",
   "name": "python",
   "nbconvert_exporter": "python",
   "pygments_lexer": "ipython2",
   "version": "2.7.12"
  }
 },
 "nbformat": 4,
 "nbformat_minor": 2
}
